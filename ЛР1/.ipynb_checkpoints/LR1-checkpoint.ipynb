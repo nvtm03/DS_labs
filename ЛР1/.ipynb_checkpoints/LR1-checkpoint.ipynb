{
 "cells": [
  {
   "cell_type": "markdown",
   "metadata": {},
   "source": [
    "# Знакомство с библиотекой Pandas. Часть 1\n",
    "\n"
   ]
  },
  {
   "cell_type": "markdown",
   "metadata": {},
   "source": [
    "\n",
    "\n",
    "### 1. Импорт библиотек для работы с данными"
   ]
  },
  {
   "cell_type": "code",
   "execution_count": null,
   "metadata": {},
   "outputs": [],
   "source": [
    "import pandas as pd #import - служебная команда, которая позволяет импортировать библиотеку для работы\n",
    "import numpy as np #импортируем библиотеки под сокращенным именем (для удобства работы). можно оставить и их полные имена, тогда если нужно вызвать библиотеку, нужно обратиться к полному имени"
   ]
  },
  {
   "cell_type": "markdown",
   "metadata": {},
   "source": [
    "Pandas — это программная библиотека, написанная для языка программирования Python для манипулирования и анализа данных. В частности, он предлагает структуры данных и операции для управления числовыми таблицами и временными рядами.\n",
    "Pandas оперирует структурой : DataFrame - это двумерная структуру размеченных данных (на каждый столбец есть метка - его название, которое обозначает, что содержится в этом столбце) со столбцами потенциально разных типов. \n",
    "Вы можете думать об этом как об электронной таблице, таблице SQL или наборе объектов Series (совокупность столбцов, переведённых в строки).\n",
    "Каждый файл pandas переводит в понятную для себя структуру - DataFrame.\n",
    "Pandas позволяет импортировать данные из файлов различных форматов, таких как значения, разделенные запятыми, JSON, Parquet, таблицы или запросы баз данных SQL и Microsoft Excel. Pandas позволяет выполнять различные операции манипулирования данными, такие как объединение, изменение формы, выделение,а также очистку данных и их сортировку.\n",
    "Pandas предоставляет два типа для работы с данными:\n",
    "Series: одномерный размеченный массив, содержащий данные любого типа\n",
    "таких как целые числа, строки, объекты Python и т.д.\n",
    "DataFrame - двумерная структура данных, которая хранит данные как двумерный массив или таблица со строками и столбцами.\n",
    "Библиотека pandas построена на базе другой библиотеки, NumPy, которая ориентирована на эффективную работу с массивами, а не на возможности работы с DataFrames.\n",
    "NumPy - это библиотека для языка программирования Python, добавляющая поддержку больших многомерных массивов и матриц, а также большую коллекцию математических функций высокого уровня для работы с этими массивами."
   ]
  },
  {
   "cell_type": "markdown",
   "metadata": {},
   "source": [
    "### 2. Данные из открытых источников [address](https://raw.githubusercontent.com/justmarkham/DAT8/master/data/chipotle.tsv). "
   ]
  },
  {
   "cell_type": "markdown",
   "metadata": {},
   "source": [
    "### 3. Загрузка данных в рабочее пространство"
   ]
  },
  {
   "cell_type": "markdown",
   "metadata": {},
   "source": [
    "Данные расположены на ресурсе. Для того, чтобы работать с ними, необходимо их импортировать в рабочее пространство.\n",
    "Для этого: pandas (назначили ранее сокращенное имя pd) имеет функцию для чтения данных. То есть не нужно разрабатыват самостоятельно функцию, для того считать каждую строку и столбец данных. Функцией pandas.read_csv(...) или pd.read_csv(...) файл считывается в структуру pandas - dataframe - двумерную таблицу. Полученную таблицу выгружаем в переменную, чтобы далее работь с этой переменной, в противном случае (без выгрузки в переменную) необходимо было бы каждый раз считывать файл, а это время и ресурсы вашей вычислительной машины"
   ]
  },
  {
   "cell_type": "code",
   "execution_count": null,
   "metadata": {},
   "outputs": [],
   "source": [
    "url = 'https://raw.githubusercontent.com/justmarkham/DAT8/master/data/chipotle.tsv'\n",
    "    \n",
    "chipo = pd.read_csv(url, sep = '\\t')"
   ]
  },
  {
   "cell_type": "markdown",
   "metadata": {},
   "source": [
    "CSV – это текстовый файл. В нем записи данных и имеющихся значений производятся в каждой строке. Здесь присутствует разделитель по умолчанию. Это – символ запятой.\n",
    "\n",
    "Для считывания CSV-документов в Пандас используется специальный метод – read_csv(). Он поддерживает сразу два параметра:\n",
    "\n",
    "Sep. Устанавливает разделители, используемые во время выгрузки объемов информации. Параметр может быть полезен, если в исходном файле CSV установлены нестандартные разделители: табуляция или точки с запятыми.\n",
    "Dtype. Позволяет явно указать тип данных, используемых в столбцах. Помогает тогда, когда автоматически определяемый системой тип оказывается неверным."
   ]
  },
  {
   "cell_type": "markdown",
   "metadata": {},
   "source": [
    "Форматы, с которыми умеет работать Pandas: Форматы данных: .csv .txt .xls\n",
    "\n",
    ".csv - текстовые файлы с разделителями-запятыми (CSV), в которых в качестве разделителя полей текста обычно используется запятая (,)\n",
    "\n",
    ".txt - текстовые файлы с разделителями (TXT), в которых для разделения полей текста обычно используется знак табуляции (знак ASCII с кодом 009);\n",
    "\n",
    ".xls — использовался в версиях Microsoft Excel до 2007 .xlsx — используется во всех версиях после 2007"
   ]
  },
  {
   "cell_type": "markdown",
   "metadata": {},
   "source": [
    "### 4. Показать первые 10 строк"
   ]
  },
  {
   "cell_type": "markdown",
   "metadata": {},
   "source": [
    "По умолчанию функция head() отображает первые пять строк DataFrame, мы в примере передаем параметр 10."
   ]
  },
  {
   "cell_type": "code",
   "execution_count": null,
   "metadata": {},
   "outputs": [],
   "source": [
    "chipo.head(10)"
   ]
  },
  {
   "cell_type": "code",
   "execution_count": null,
   "metadata": {},
   "outputs": [],
   "source": [
    "chipo.dtypes #смотрим типы данных"
   ]
  },
  {
   "cell_type": "markdown",
   "metadata": {},
   "source": [
    "Доступ к конкретному столбцу может быть произведен:"
   ]
  },
  {
   "cell_type": "markdown",
   "metadata": {},
   "source": [
    " 1) по имени столбца: dafaframe.colunm_name или dataframe[\"colunm_name\"] "
   ]
  },
  {
   "cell_type": "markdown",
   "metadata": {},
   "source": [
    "2) без привязки к имени - по индексу: dataframe[1]"
   ]
  },
  {
   "cell_type": "code",
   "execution_count": null,
   "metadata": {},
   "outputs": [],
   "source": [
    "chipo['item_name']"
   ]
  },
  {
   "cell_type": "code",
   "execution_count": null,
   "metadata": {},
   "outputs": [],
   "source": [
    "chipo.item_name"
   ]
  },
  {
   "cell_type": "code",
   "execution_count": null,
   "metadata": {},
   "outputs": [],
   "source": [
    "#получить первый столбец\n",
    "chipo.iloc[:, 0]"
   ]
  },
  {
   "cell_type": "code",
   "execution_count": null,
   "metadata": {},
   "outputs": [],
   "source": [
    "#получить третий столбец\n",
    "chipo.iloc[:, 2]"
   ]
  },
  {
   "cell_type": "code",
   "execution_count": null,
   "metadata": {},
   "outputs": [],
   "source": [
    "#выведите столбец choice_description тремя вариантами:\n",
    "#по имени двумя вараинтами\n",
    "#по индексу\n",
    "\n"
   ]
  },
  {
   "cell_type": "markdown",
   "metadata": {},
   "source": [
    "Функция iloc выбирает строки и столбцы в определенных целочисленных позициях. То есть, когда в chipo.iloc[:, 1] присутствует второй параметр, это означает, что из всей таблицы (:) выбрать только (1) столбец"
   ]
  },
  {
   "cell_type": "code",
   "execution_count": null,
   "metadata": {},
   "outputs": [],
   "source": [
    "#если в функции chipo.iloc[:] оставить только один параметр, то отобразится вся таблица\n",
    "#проверьте это выведите ниже chipo.iloc[:] \n",
    "\n"
   ]
  },
  {
   "cell_type": "code",
   "execution_count": null,
   "metadata": {},
   "outputs": [],
   "source": [
    "#функцией iloc помимо столбцом можно также ограничивать число отображаемых строк \n",
    "chipo.iloc[0:4]"
   ]
  },
  {
   "cell_type": "code",
   "execution_count": null,
   "metadata": {},
   "outputs": [],
   "source": [
    "chipo.iloc[4:6] # выведены строки с 4-ой до 6-ой"
   ]
  },
  {
   "cell_type": "code",
   "execution_count": null,
   "metadata": {},
   "outputs": [],
   "source": [
    "#выведите строки с 12-ой до 20-й\n",
    "\n"
   ]
  },
  {
   "cell_type": "markdown",
   "metadata": {},
   "source": [
    "Просмотр первых n строк определенного столбца: название_вашего_dataframe['имя столбца'].head(). В данном случае мы вырузили наш файл в переменную chipo, и поскольку pandas переводит файл в стуркутуру dataframe, то в данном случае название_вашего_datafram - это chipo"
   ]
  },
  {
   "cell_type": "code",
   "execution_count": null,
   "metadata": {},
   "outputs": [],
   "source": [
    "chipo['item_name'].head(20)"
   ]
  },
  {
   "cell_type": "code",
   "execution_count": null,
   "metadata": {},
   "outputs": [],
   "source": [
    "# выведите первые 30 строк столбца choice_description вашего dataframe chipo\n"
   ]
  },
  {
   "cell_type": "markdown",
   "metadata": {},
   "source": [
    "### 5. Размер данных"
   ]
  },
  {
   "cell_type": "code",
   "execution_count": null,
   "metadata": {},
   "outputs": [],
   "source": [
    "# Метод info() выводит информацию о DataFrame.\n",
    "\n",
    "# Информация содержит количество столбцов, метки столбцов, типы данных столбцов, использование памяти, индекс диапазона и количество ячеек в каждом столбце (не нулевые значения).\n",
    "\n",
    "chipo.info() "
   ]
  },
  {
   "cell_type": "code",
   "execution_count": null,
   "metadata": {},
   "outputs": [],
   "source": [
    "chipo.shape #общий размер dataframe"
   ]
  },
  {
   "cell_type": "code",
   "execution_count": null,
   "metadata": {},
   "outputs": [],
   "source": [
    "chipo.shape[0] #число строк"
   ]
  },
  {
   "cell_type": "code",
   "execution_count": null,
   "metadata": {},
   "outputs": [],
   "source": [
    "chipo.shape[1] # число столбцов"
   ]
  },
  {
   "cell_type": "markdown",
   "metadata": {},
   "source": [
    "### 7. Показать названия всех столбцов"
   ]
  },
  {
   "cell_type": "code",
   "execution_count": null,
   "metadata": {},
   "outputs": [],
   "source": [
    "chipo.columns"
   ]
  },
  {
   "cell_type": "markdown",
   "metadata": {},
   "source": [
    "### 8. Уникальные значения столбцов"
   ]
  },
  {
   "cell_type": "markdown",
   "metadata": {},
   "source": [
    "Для выбора уникальных значений из определенного столбца можно использовать метод unique(). Он добавляется к концу имени столбца, например, df['имя_столбца'].unique(), и возвращает список уникальных значений в формате Python."
   ]
  },
  {
   "cell_type": "code",
   "execution_count": null,
   "metadata": {},
   "outputs": [],
   "source": [
    "# примените функцию .unique() к столбцу item_name\n"
   ]
  },
  {
   "cell_type": "markdown",
   "metadata": {},
   "source": [
    "количество уникальных значений в каждом столбце DataFrame: df.nunique()"
   ]
  },
  {
   "cell_type": "code",
   "execution_count": null,
   "metadata": {},
   "outputs": [],
   "source": [
    "# выведите количество уникальных значений всех столбцов, используя функцию .nunique()\n"
   ]
  },
  {
   "cell_type": "code",
   "execution_count": null,
   "metadata": {},
   "outputs": [],
   "source": [
    "# выведите количество уникальных значений в столбце choice_description, используя функцию .nunique(). обращение к определенному столбцу для .nunique() похоже как для \n",
    "# .unique()\n"
   ]
  },
  {
   "cell_type": "code",
   "execution_count": null,
   "metadata": {},
   "outputs": [],
   "source": [
    "#число уникальных значений - подсчитывает количество раз, которое то или иное уникальное значение встречается в столбце\n",
    "chipo['item_name'].value_counts()"
   ]
  },
  {
   "cell_type": "markdown",
   "metadata": {},
   "source": [
    "### 9. Расчет суммы дохода"
   ]
  },
  {
   "cell_type": "markdown",
   "metadata": {},
   "source": [
    "Необходимо расчитать сумму дохода за весь период. \n"
   ]
  },
  {
   "cell_type": "markdown",
   "metadata": {},
   "source": [
    "Общая формула расчета : \n",
    "заказ по каждой позиции = цена каждой позиции * на число заказов по данной цене по этой позиции\n"
   ]
  },
  {
   "cell_type": "markdown",
   "metadata": {},
   "source": [
    "итоговый доход = сумма заказов по каждой позиции"
   ]
  },
  {
   "cell_type": "markdown",
   "metadata": {},
   "source": [
    "Это математическая операция, а математические операци выполняются над числами. Поэтому первостепенно проверить типы данных в столбцах"
   ]
  },
  {
   "cell_type": "markdown",
   "metadata": {},
   "source": [
    "#### Проверить текущий тип данных"
   ]
  },
  {
   "cell_type": "code",
   "execution_count": null,
   "metadata": {},
   "outputs": [],
   "source": [
    "chipo.item_price.dtype "
   ]
  },
  {
   "cell_type": "markdown",
   "metadata": {},
   "source": [
    "в данном случае цена представлена типом данных string - сторока, вещественные числа описаны строкой, что не позволяет выполнять математические операции с ценой"
   ]
  },
  {
   "cell_type": "markdown",
   "metadata": {},
   "source": [
    "#### Преобразование типа данных"
   ]
  },
  {
   "cell_type": "markdown",
   "metadata": {},
   "source": [
    "необходимо конвертировать item_price в вещественное число, а также удалить знак $. И будем это делать на основе регулярных выражений.\n",
    "Регулярные выражения (Regex) – это строки, задающие шаблон для поиска определенных фрагментов в тексте. Помимо поиска, с помощью специальных Regex-шаблонов можно манипулировать текстовыми фрагментами – удалять и изменять подстроки частично или полностью.\n",
    "\n",
    "Регулярные выражения состоят из набора литералов (букв и цифр) и метасимволов"
   ]
  },
  {
   "cell_type": "code",
   "execution_count": null,
   "metadata": {},
   "outputs": [],
   "source": [
    "chipo[\"item_price\"] = chipo[\"item_price\"].replace({'\\$':''}, regex = True)"
   ]
  },
  {
   "cell_type": "code",
   "execution_count": null,
   "metadata": {},
   "outputs": [],
   "source": [
    "chipo[\"item_price\"] = chipo[\"item_price\"].astype(float)"
   ]
  },
  {
   "cell_type": "code",
   "execution_count": null,
   "metadata": {},
   "outputs": [],
   "source": [
    "chipo.item_price.dtype "
   ]
  },
  {
   "cell_type": "markdown",
   "metadata": {},
   "source": [
    "#### Расчет дохода"
   ]
  },
  {
   "cell_type": "code",
   "execution_count": null,
   "metadata": {},
   "outputs": [],
   "source": [
    "revenue = (chipo['quantity']* chipo['item_price']).sum()\n",
    "\n",
    "revenue"
   ]
  },
  {
   "cell_type": "markdown",
   "metadata": {},
   "source": [
    "### 10. Расчет средней суммы дохода"
   ]
  },
  {
   "cell_type": "code",
   "execution_count": null,
   "metadata": {},
   "outputs": [],
   "source": [
    "\n",
    "chipo['revenue'] = chipo['quantity'] * chipo['item_price']\n",
    "order_grouped = chipo.groupby('order_id').sum()\n",
    "order_grouped['revenue'].mean()"
   ]
  },
  {
   "cell_type": "markdown",
   "metadata": {},
   "source": [
    "### 11. Вывод данных датафрейма по условию"
   ]
  },
  {
   "cell_type": "code",
   "execution_count": null,
   "metadata": {},
   "outputs": [],
   "source": [
    "filtered_chipo_1 = chipo[chipo['item_price'] > 10]\n",
    "filtered_chipo_1"
   ]
  },
  {
   "cell_type": "code",
   "execution_count": null,
   "metadata": {},
   "outputs": [],
   "source": [
    "#срез фрейма\n",
    "filtered_chipo_2 = chipo[chipo['item_price'] > 10]\n",
    "filtered_chipo_2 = filtered_chipo_2[[\"item_name\",\"choice_description\"]]\n",
    "filtered_chipo_2 "
   ]
  },
  {
   "cell_type": "code",
   "execution_count": null,
   "metadata": {},
   "outputs": [],
   "source": []
  }
 ],
 "metadata": {
  "anaconda-cloud": {},
  "kernelspec": {
   "display_name": "Python 3 (ipykernel)",
   "language": "python",
   "name": "python3"
  },
  "language_info": {
   "codemirror_mode": {
    "name": "ipython",
    "version": 3
   },
   "file_extension": ".py",
   "mimetype": "text/x-python",
   "name": "python",
   "nbconvert_exporter": "python",
   "pygments_lexer": "ipython3",
   "version": "3.12.3"
  }
 },
 "nbformat": 4,
 "nbformat_minor": 4
}
